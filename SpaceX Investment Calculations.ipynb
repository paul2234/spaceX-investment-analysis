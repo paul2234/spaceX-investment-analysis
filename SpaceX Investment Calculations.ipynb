{
 "cells": [
  {
   "cell_type": "markdown",
   "id": "5188570f",
   "metadata": {},
   "source": [
    "# Should I invest in SpaceX?\n",
    "And if so, what amount?\n",
    "\n",
    "Here's what I did.\n",
    "1. Get assumptions regarding drivers of SpaceX growth from publically available sources (ex. \"commercial heavy launch market will grow 15% YoY through 2027\")\n",
    "2. Layer in my own assumptions about the potential ranges of those drivers. (ex. \"I think the potential range of commercial heavy launch could be anywhere from -15% to 45%, assuming a normal distribution\")\n",
    "3. Run a Monte Carlo simulation, where I simulate 10,000 different outcomes for future SpaceX valuations based on my assumptions\n",
    "4. Based on Monte Carlo results, calculate the Kelly Criterion (https://en.wikipedia.org/wiki/Kelly_criterion) which determines the optimal position size (as a percentage of your current wealth) to \"wager\" to maximize expected wealth\n",
    "5. Decide to invest any amount up to the kelly criterion\n",
    "\n",
    "## DISCLAIMER\n",
    "NOTE: The information herein is not investment advice. Author does not warrant that any of the information herein is correct. It is for informational purposes only. All assumptions - including those sourced from publically available sources and those made by the author could be very wrong. There could be mathematical errors in the author's calculations. Additionally, logical assumptions made in creating the mathematical models herein could be misguided. \n",
    "\n",
    "By proceeding further, you, the reader, accept all risk and liability for investment decisions you make (or do not make) based on the information herein. The author is not liable for any risk or loss of capital for investment decisions made (or not made) using this information. "
   ]
  },
  {
   "cell_type": "markdown",
   "id": "1bf03d07",
   "metadata": {},
   "source": [
    "## Publically available data used for assumptions\n",
    "\n",
    "### SpaceX 2022 revenue estimates\n",
    "Source: https://payloadspace.com/spacexs-22-revenues-a-reformed-wall-street-analysts-best-guess/\n",
    "- Launch revenue: 2.7 billion (USD)\n",
    "- Starlink revenue: 980M (USD)\n",
    "- Current starlink subscribers: 745,000 EOY 2022 (estimated)\n",
    "\n",
    "### Current SpaceX valuation\n",
    "Source: https://www.google.com/search?q=spacex+valuation&oq=spacex+valuation&aqs=chrome..69i57j69i61.4812j0j15&sourceid=chrome&ie=UTF-8\n",
    "- Valuation: 137 billion (USD)\n",
    "\n",
    "### Growth assumption & sources\n",
    "Source: https://stonky.notion.site/SpaceX-Memo-b1e61b0e59bb4a72b268bf59599bd06f\n",
    "- Commercial Launch Market CAGR: 15.7%\n",
    "- SpaceX current commercial launch market share: 60%\n",
    "- Starlink: This is a little more complicated. The source above cite's SpaceX's estimate of 40 million subscribers by EOY 2025. That would be 277% CAGR. This would mean Starlink's subscriber base would exeed the earth's population by about 2028... so I think that number is too high. I just made up my own \"conservative\" estimate of **50% CAGR**\n",
    "\n",
    "### Additional assumptions\n",
    "1. I calcualted the current (estimated) price-to-sales ratio of 51.62 (137 billion / 2.7 billion)\n",
    "\n",
    "### Assumption ranges for Monte Carlo\n",
    "I assumed a 50% standard devation for each metric and assumed a normal distribution.\n",
    "For example, assuming a commercial launch market CAGR of 15.7%, my simulation tests hypothetical actual CAGRs sampled from a normal distribution with a mean of 15.7% and a standard devation of 7.85% (50% of 15.7%)\n",
    "\n",
    "### Monte Carlo Simulation\n",
    "My monte carlo process simulates 10,000 possible SpaceX valuations by EOY 2025\n",
    "\n"
   ]
  },
  {
   "cell_type": "markdown",
   "id": "b5129b9b",
   "metadata": {},
   "source": [
    "## Code Inputs"
   ]
  },
  {
   "cell_type": "code",
   "execution_count": 21,
   "id": "1bd96966",
   "metadata": {},
   "outputs": [],
   "source": [
    "# current launch and starlink revenue\n",
    "current = {\n",
    "    \"launch\": 2270000000.00,\n",
    "    \"starlink\":980000000.00\n",
    "}\n",
    "\n",
    "# base assumptions described above\n",
    "base_assumptions = {\n",
    "    \"value\":{\"launch_market_growth\":0.157,\n",
    "        \"launch_market_share\": 0.6,\n",
    "        \"starlink_annual_subscriber_growth\":0.5,\n",
    "        \"assumed_ps_ratio\":51.62\n",
    "    }\n",
    "    ,\"pct_std_dev\":{\"launch_market_growth\":0.5,\n",
    "        \"launch_market_share\": 0.5,\n",
    "        \"starlink_annual_subscriber_growth\":0.5,\n",
    "        \"assumed_ps_ratio\":0.25\n",
    "    }\n",
    "}\n",
    "\n",
    "\n",
    "years = 3 #running simulation 3 years out\n",
    "runs = 10000 #number of times to run simulation for monte carlo\n",
    "current_valuation = 137000000000 #current SpaceX valuation\n",
    "working_capital = 250000 #hypothetical investible capital\n",
    "\n",
    "#where all the magic happens. All results stored in the spaceX instance of the Analysis class\n",
    "spaceX = Analysis(current,base_assumptions,years,runs,current_valuation,working_capital)\n"
   ]
  },
  {
   "cell_type": "markdown",
   "id": "4e1d61d6",
   "metadata": {},
   "source": [
    "## Results and discussion"
   ]
  },
  {
   "cell_type": "markdown",
   "id": "ec646339",
   "metadata": {},
   "source": [
    "### F_max\n",
    "This is the portion of my working capital that is mathematically optimum to \"wager\" given my assumptions"
   ]
  },
  {
   "cell_type": "code",
   "execution_count": 19,
   "id": "b39f8f2b",
   "metadata": {},
   "outputs": [
    {
     "name": "stdout",
     "output_type": "stream",
     "text": [
      "f_max: 1.0\n"
     ]
    }
   ],
   "source": [
    "print(\"f_max:\",spaceX.f_max)"
   ]
  },
  {
   "cell_type": "markdown",
   "id": "041aca9f",
   "metadata": {},
   "source": [
    "An f_max of 1 means that I should go all-in, wagering 100% of my working capital on this :)"
   ]
  },
  {
   "cell_type": "markdown",
   "id": "ebca22c7",
   "metadata": {},
   "source": [
    "### Forecasted distribution of absolute returns\n",
    "This is the forecasted absolute return by EOY 2025. A value of 1 means a 100% return.\n",
    "Note, this is not a CAGR. Also, this simulation does not assume any future dilution of ownership."
   ]
  },
  {
   "cell_type": "code",
   "execution_count": 22,
   "id": "f7e4b8b5",
   "metadata": {},
   "outputs": [
    {
     "data": {
      "image/png": "[encoded data removed]",
      "text/plain": [
       "<Figure size 432x288 with 1 Axes>"
      ]
     },
     "metadata": {
      "needs_background": "light"
     },
     "output_type": "display_data"
    },
    {
     "name": "stdout",
     "output_type": "stream",
     "text": [
      "Expected absolute return (mean of simulated outcomes): 2.69\n",
      "Expected SpaceX valuation (mean of simulated outcomes): 368530000000.0\n"
     ]
    }
   ],
   "source": [
    "spaceX.absolute_return_distribution()\n",
    "expected_return = round(np.mean(spaceX.absolute_returns),2)\n",
    "expected_valuation = current_valuation * expected_return\n",
    "print(\"Expected absolute return (mean of simulated outcomes):\",expected_return)\n",
    "print(\"Expected SpaceX valuation (mean of simulated outcomes):\",expected_valuation)"
   ]
  },
  {
   "cell_type": "markdown",
   "id": "e32c1aa6",
   "metadata": {},
   "source": []
  },
  {
   "cell_type": "markdown",
   "id": "d5a53ffe",
   "metadata": {},
   "source": [
    "## The Code"
   ]
  },
  {
   "cell_type": "code",
   "execution_count": 1,
   "id": "ad32ed2c",
   "metadata": {},
   "outputs": [],
   "source": [
    "import pandas as pd\n",
    "import numpy as np\n",
    "import matplotlib.pyplot as plt\n",
    "import math\n",
    "\n",
    "class Analysis:\n",
    "    def __init__(self,current,base_assumptions,years,runs,current_valuation,working_capital):\n",
    "        self.current = current\n",
    "        self.base_assumptions = base_assumptions\n",
    "        self.years = years\n",
    "        self.runs = runs\n",
    "        self.current_valuation = current_valuation\n",
    "        self.working_capital = working_capital\n",
    "        \n",
    "        self.valuations = self.calculate_valuations()\n",
    "        self.valuations = np.where(np.array(self.valuations) < 0,0,np.array(self.valuations))\n",
    "        \n",
    "        self.absolute_returns = [v / self.current_valuation for v in self.valuations]\n",
    "        self.f_max, self.f_values, self.g_values = self.calc_kelly()\n",
    "        self.investment_amount = self.calc_investment_amount()\n",
    "        \n",
    "\n",
    "    def calculate_future_valuation(self,current,assumptions):\n",
    "    \n",
    "        current_launch_revenue = current[\"launch\"]\n",
    "        current_starlink_revenue = current[\"starlink\"]\n",
    "    \n",
    "        assumed_launch_market_growth = assumptions[\"launch_market_growth\"]\n",
    "        assumed_launch_market_share = assumptions[\"launch_market_share\"]\n",
    "        assumed_subscriber_growth = assumptions[\"starlink_annual_subscriber_growth\"]\n",
    "        assumed_ps_ratio = assumptions[\"assumed_ps_ratio\"]\n",
    "    \n",
    "        future_launch_revenue = current_launch_revenue * (1 + assumed_launch_market_growth) ** self.years\n",
    "        future_starlink_revenue = current_starlink_revenue * (1 + assumed_subscriber_growth) ** self.years\n",
    "        future_total_revenue = future_launch_revenue + future_starlink_revenue\n",
    "    \n",
    "        future_valuation = future_total_revenue * assumed_ps_ratio\n",
    "    \n",
    "        return future_valuation\n",
    "        \n",
    "    def generate_value_array(self,val,std_dev,runs):\n",
    "    \n",
    "        vals = val * np.random.normal(1,std_dev,runs)\n",
    "    \n",
    "        return vals\n",
    "    \n",
    "    def calculate_valuations(self):\n",
    "    \n",
    "        launch_market_growth_values =       self.generate_value_array(self.base_assumptions[\"value\"][\"launch_market_growth\"],self.base_assumptions[\"pct_std_dev\"][\"launch_market_growth\"],self.runs)\n",
    "        launch_market_share_values =        self.generate_value_array(self.base_assumptions[\"value\"][\"launch_market_share\"],self.base_assumptions[\"pct_std_dev\"][\"launch_market_share\"],self.runs)\n",
    "        assumed_subscriber_growth_values =  self.generate_value_array(self.base_assumptions[\"value\"][\"starlink_annual_subscriber_growth\"],self.base_assumptions[\"pct_std_dev\"][\"starlink_annual_subscriber_growth\"],self.runs)\n",
    "        assumed_ps_ratio_values =           self.generate_value_array(self.base_assumptions[\"value\"][\"assumed_ps_ratio\"],self.base_assumptions[\"pct_std_dev\"][\"assumed_ps_ratio\"],self.runs)\n",
    "    \n",
    "        valuations = []\n",
    "    \n",
    "        for i in range(self.runs):\n",
    "        \n",
    "            assumptions = {\n",
    "                \"launch_market_growth\":launch_market_growth_values[i],\n",
    "                \"launch_market_share\": launch_market_share_values[i],\n",
    "                \"starlink_annual_subscriber_growth\":assumed_subscriber_growth_values[i],\n",
    "                \"assumed_ps_ratio\":assumed_ps_ratio_values[i]\n",
    "            }\n",
    "        \n",
    "            valuation = self.calculate_future_valuation(current,assumptions)\n",
    "            valuations.append(valuation)\n",
    "    \n",
    "        return valuations\n",
    "        \n",
    "    def valuation_distribution(self):\n",
    "        plt.hist(self.valuations,bins = 100)\n",
    "        plt.show()\n",
    "        \n",
    "        return\n",
    "        \n",
    "    def absolute_return_distribution(self):\n",
    "        plt.hist(self.absolute_returns,bins = 100)\n",
    "        plt.show()\n",
    "        \n",
    "        return\n",
    "        \n",
    "    def calc_G(self,df_bins_agg,f,dS):\n",
    "    \n",
    "        G = 0\n",
    "    \n",
    "        for index, row in df_bins_agg.iterrows():\n",
    "        \n",
    "            s = row.bin_bucket.right\n",
    "            p = row.norm_absolute_returns\n",
    "        \n",
    "            try:\n",
    "                G = G + math.log(1 + f * s) * p * dS\n",
    "            except:\n",
    "                return -1\n",
    "    \n",
    "        return G\n",
    "\n",
    "    def calc_f_max(self,f_values,g_values):\n",
    "    \n",
    "        f = f_values[0]\n",
    "    \n",
    "        prev_g = 0\n",
    "    \n",
    "        for i in range(len(g_values)):\n",
    "            if i > 0:\n",
    "                if g_values[i] > prev_g:\n",
    "                    f = f_values[i]\n",
    "                else:\n",
    "                    return f\n",
    "                \n",
    "        return f\n",
    "\n",
    "    def calc_kelly(self):\n",
    "\n",
    "        #get min & max of absolute_returns\n",
    "        A = np.min(self.absolute_returns)\n",
    "        B = np.max(self.absolute_returns)\n",
    "        dS = 0.1\n",
    "    \n",
    "        s_array = np.arange(A - dS,B + dS,dS)\n",
    "\n",
    "        #get absolute returns into bins\n",
    "        bins = pd.cut(x = self.absolute_returns,bins = s_array)\n",
    "    \n",
    "        df_bins = pd.DataFrame(data = {\n",
    "            \"absolute_returns\":self.absolute_returns,\n",
    "            \"bin_bucket\":bins\n",
    "            })\n",
    "    \n",
    "        #aggregate bins\n",
    "        df_bins_agg = df_bins.groupby(\"bin_bucket\").count().reset_index()\n",
    "        df_bins_agg[\"norm_absolute_returns\"] = df_bins_agg.absolute_returns / df_bins_agg.absolute_returns.sum()\n",
    "    \n",
    "        f_values = np.arange(0.01,1.01,0.01)\n",
    "        g_values = []\n",
    "    \n",
    "        for f in f_values:\n",
    "            G = self.calc_G(df_bins_agg,f,dS)\n",
    "            g_values.append(G)\n",
    "        \n",
    "        f_max = self.calc_f_max(f_values,g_values)\n",
    "    \n",
    "        return f_max,f_values,g_values\n",
    "        \n",
    "    def calc_investment_amount(self):\n",
    "        \n",
    "        return self.working_capital * self.f_max"
   ]
  },
  {
   "cell_type": "code",
   "execution_count": null,
   "id": "3f3ca94a",
   "metadata": {},
   "outputs": [],
   "source": []
  }
 ],
 "metadata": {
  "kernelspec": {
   "display_name": "Python 3 (ipykernel)",
   "language": "python",
   "name": "python3"
  },
  "language_info": {
   "codemirror_mode": {
    "name": "ipython",
    "version": 3
   },
   "file_extension": ".py",
   "mimetype": "text/x-python",
   "name": "python",
   "nbconvert_exporter": "python",
   "pygments_lexer": "ipython3",
   "version": "3.7.7"
  }
 },
 "nbformat": 4,
 "nbformat_minor": 5
}
